{
 "cells": [
  {
   "cell_type": "markdown",
   "id": "65fe3f5a",
   "metadata": {},
   "source": [
    " 1. Downloading the libraries:"
   ]
  },
  {
   "cell_type": "code",
   "execution_count": 1,
   "id": "40142380",
   "metadata": {},
   "outputs": [],
   "source": [
    "import pandas as pd\n",
    "import scipy.stats as st\n",
    "import numpy as np\n",
    "from bstrap import bootstrap"
   ]
  },
  {
   "cell_type": "markdown",
   "id": "46577b45",
   "metadata": {},
   "source": [
    "2. Importing Kinopoisk data:"
   ]
  },
  {
   "cell_type": "code",
   "execution_count": 11,
   "id": "e7ac98f3",
   "metadata": {},
   "outputs": [],
   "source": [
    "data = pd.read_csv('kinopoisk rating.csv', sep=';', encoding='windows-1251')"
   ]
  },
  {
   "cell_type": "code",
   "execution_count": 3,
   "id": "55b79272",
   "metadata": {},
   "outputs": [
    {
     "data": {
      "text/html": [
       "<div>\n",
       "<style scoped>\n",
       "    .dataframe tbody tr th:only-of-type {\n",
       "        vertical-align: middle;\n",
       "    }\n",
       "\n",
       "    .dataframe tbody tr th {\n",
       "        vertical-align: top;\n",
       "    }\n",
       "\n",
       "    .dataframe thead th {\n",
       "        text-align: right;\n",
       "    }\n",
       "</style>\n",
       "<table border=\"1\" class=\"dataframe\">\n",
       "  <thead>\n",
       "    <tr style=\"text-align: right;\">\n",
       "      <th></th>\n",
       "      <th>num</th>\n",
       "      <th>name_rus</th>\n",
       "      <th>rating_new</th>\n",
       "      <th>origin</th>\n",
       "      <th>genre</th>\n",
       "      <th>rating_old</th>\n",
       "      <th>qty_views</th>\n",
       "    </tr>\n",
       "  </thead>\n",
       "  <tbody>\n",
       "    <tr>\n",
       "      <th>0</th>\n",
       "      <td>1</td>\n",
       "      <td>Зеленая миля</td>\n",
       "      <td>9.1</td>\n",
       "      <td>США</td>\n",
       "      <td>фэнтези/ драма</td>\n",
       "      <td>8.9</td>\n",
       "      <td>692418</td>\n",
       "    </tr>\n",
       "    <tr>\n",
       "      <th>1</th>\n",
       "      <td>2</td>\n",
       "      <td>Побег из Шоушенка</td>\n",
       "      <td>9.1</td>\n",
       "      <td>США</td>\n",
       "      <td>драма</td>\n",
       "      <td>8.9</td>\n",
       "      <td>784326</td>\n",
       "    </tr>\n",
       "    <tr>\n",
       "      <th>2</th>\n",
       "      <td>3</td>\n",
       "      <td>Властелин колец: Возвращение короля</td>\n",
       "      <td>8.6</td>\n",
       "      <td>Новая Зеландия/ США</td>\n",
       "      <td>фэнтези/ приключения</td>\n",
       "      <td>8.8</td>\n",
       "      <td>481829</td>\n",
       "    </tr>\n",
       "    <tr>\n",
       "      <th>3</th>\n",
       "      <td>4</td>\n",
       "      <td>Властелин колец: Две крепости</td>\n",
       "      <td>8.6</td>\n",
       "      <td>Новая Зеландия/ США</td>\n",
       "      <td>фэнтези/ приключения</td>\n",
       "      <td>8.8</td>\n",
       "      <td>467607</td>\n",
       "    </tr>\n",
       "    <tr>\n",
       "      <th>4</th>\n",
       "      <td>5</td>\n",
       "      <td>Властелин колец: Братство Кольца</td>\n",
       "      <td>8.6</td>\n",
       "      <td>Новая Зеландия/ США</td>\n",
       "      <td>фэнтези/ приключения</td>\n",
       "      <td>8.8</td>\n",
       "      <td>516856</td>\n",
       "    </tr>\n",
       "  </tbody>\n",
       "</table>\n",
       "</div>"
      ],
      "text/plain": [
       "   num                             name_rus  rating_new               origin  \\\n",
       "0    1                         Зеленая миля         9.1                  США   \n",
       "1    2                    Побег из Шоушенка         9.1                  США   \n",
       "2    3  Властелин колец: Возвращение короля         8.6  Новая Зеландия/ США   \n",
       "3    4        Властелин колец: Две крепости         8.6  Новая Зеландия/ США   \n",
       "4    5     Властелин колец: Братство Кольца         8.6  Новая Зеландия/ США   \n",
       "\n",
       "                  genre  rating_old  qty_views  \n",
       "0        фэнтези/ драма         8.9     692418  \n",
       "1                 драма         8.9     784326  \n",
       "2  фэнтези/ приключения         8.8     481829  \n",
       "3  фэнтези/ приключения         8.8     467607  \n",
       "4  фэнтези/ приключения         8.8     516856  "
      ]
     },
     "execution_count": 3,
     "metadata": {},
     "output_type": "execute_result"
    }
   ],
   "source": [
    "data.head()"
   ]
  },
  {
   "cell_type": "markdown",
   "id": "c7fc9b52",
   "metadata": {},
   "source": [
    "3. Testing Mann-Whitney U test:\n",
    "\n",
    "- we can use it without data normalization\n",
    "- and when sample size is small\n",
    "\n",
    " H0 - there is no statistical difference between rating_new and rating_old\n",
    " Ha - the difference between rating_new and rating_old exists"
   ]
  },
  {
   "cell_type": "code",
   "execution_count": 4,
   "id": "1c37a6ea",
   "metadata": {},
   "outputs": [
    {
     "data": {
      "text/plain": [
       "MannwhitneyuResult(statistic=31324.5, pvalue=0.9629567921262221)"
      ]
     },
     "execution_count": 4,
     "metadata": {},
     "output_type": "execute_result"
    }
   ],
   "source": [
    "st.mannwhitneyu(data.rating_old, data.rating_new)"
   ]
  },
  {
   "cell_type": "markdown",
   "id": "dbaa087a",
   "metadata": {},
   "source": [
    "4. Conclusion: for all movies pvalue is not less than 0.05, therefore statistical difference between two groups is not relevant. Old rating does not differ from new rating"
   ]
  },
  {
   "cell_type": "markdown",
   "id": "01c0203e",
   "metadata": {},
   "source": [
    "5. Let's check the same thing, but for films with the similiar genre (e.g. USA and action movies):"
   ]
  },
  {
   "cell_type": "code",
   "execution_count": 5,
   "id": "c4c70acc",
   "metadata": {},
   "outputs": [
    {
     "data": {
      "text/plain": [
       "(33, 7)"
      ]
     },
     "execution_count": 5,
     "metadata": {},
     "output_type": "execute_result"
    }
   ],
   "source": [
    "data_USA = data[data.origin.str.contains('США') & data.genre.str.contains('боевик')]\n",
    "data_USA.shape"
   ]
  },
  {
   "cell_type": "code",
   "execution_count": 6,
   "id": "9505eb4d",
   "metadata": {},
   "outputs": [
    {
     "data": {
      "text/plain": [
       "MannwhitneyuResult(statistic=699.0, pvalue=0.042728150663774264)"
      ]
     },
     "execution_count": 6,
     "metadata": {},
     "output_type": "execute_result"
    }
   ],
   "source": [
    "st.mannwhitneyu(data_USA.rating_old, data_USA.rating_new)"
   ]
  },
  {
   "cell_type": "markdown",
   "id": "5d6cd241",
   "metadata": {},
   "source": [
    "6. Conclusion: for USA action movies pvalue is  less than 0.05, therefore statistical difference between two groups is relevant. Old rating does differ from new rating"
   ]
  },
  {
   "cell_type": "markdown",
   "id": "a3c71b37",
   "metadata": {},
   "source": [
    "7. Let's try to apply bootstrap:\n",
    "- we chose mean as our metric"
   ]
  },
  {
   "cell_type": "code",
   "execution_count": 7,
   "id": "466d1113",
   "metadata": {},
   "outputs": [
    {
     "name": "stdout",
     "output_type": "stream",
     "text": [
      "{'avg_metric': 8.179111599999999, 'metric_ci_lb': 8.16, 'metric_ci_ub': 8.2}\n",
      "{'avg_metric': 8.1837548, 'metric_ci_lb': 8.15398, 'metric_ci_ub': 8.212399999999999}\n",
      "0.836\n"
     ]
    }
   ],
   "source": [
    "stats_rt_old, stats_rt_new, p_value = bootstrap(np.mean, data.rating_old, data.rating_new, nbr_runs=1000)\n",
    "print(stats_rt_old)\n",
    "print(stats_rt_new)\n",
    "print(p_value)"
   ]
  },
  {
   "cell_type": "markdown",
   "id": "d8f6d638",
   "metadata": {},
   "source": [
    "8. Conclusion: once again for all movies pvalue is not less than 0.05, therefore statistical difference between two groups is not relevant. Old rating does not differ from new rating"
   ]
  },
  {
   "cell_type": "code",
   "execution_count": 8,
   "id": "3b51ca8b",
   "metadata": {},
   "outputs": [
    {
     "name": "stdout",
     "output_type": "stream",
     "text": [
      "{'avg_metric': 8.162427272727273, 'metric_ci_lb': 8.118181818181817, 'metric_ci_ub': 8.212121212121213}\n",
      "{'avg_metric': 8.08840909090909, 'metric_ci_lb': 8.012121212121212, 'metric_ci_ub': 8.166666666666666}\n",
      "0.171\n"
     ]
    }
   ],
   "source": [
    "stats_rt_old_USA, stats_rt_new_USA, p_value = bootstrap(np.mean, data_USA.rating_old, data_USA.rating_new, nbr_runs=1000)\n",
    "print(stats_rt_old_USA)\n",
    "print(stats_rt_new_USA)\n",
    "print(p_value)"
   ]
  },
  {
   "cell_type": "markdown",
   "id": "b3bc1410",
   "metadata": {},
   "source": [
    "9. Conclusion: unfortunately, bootstrap did not prove that result for USA action movies are stable. Our dataset is small (only 33 rows), therefore, when we resample it, using bootstrap, we did not get that difference between two groups is relevant. Old rating does not differ from new rating"
   ]
  }
 ],
 "metadata": {
  "kernelspec": {
   "display_name": "Python 3 (ipykernel)",
   "language": "python",
   "name": "python3"
  },
  "language_info": {
   "codemirror_mode": {
    "name": "ipython",
    "version": 3
   },
   "file_extension": ".py",
   "mimetype": "text/x-python",
   "name": "python",
   "nbconvert_exporter": "python",
   "pygments_lexer": "ipython3",
   "version": "3.9.7"
  }
 },
 "nbformat": 4,
 "nbformat_minor": 5
}
